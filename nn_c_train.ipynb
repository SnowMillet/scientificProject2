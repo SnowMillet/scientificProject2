{
 "cells": [
  {
   "cell_type": "markdown",
   "metadata": {
    "pycharm": {
     "name": "#%% md\n"
    }
   },
   "source": [
    "# 神经网络模型："
   ]
  },
  {
   "cell_type": "code",
   "execution_count": 76,
   "metadata": {
    "pycharm": {
     "name": "#%%\n"
    }
   },
   "outputs": [
    {
     "name": "stdout",
     "output_type": "stream",
     "text": [
      "zj_c2_s0.1_b16_lr0.001_d0.5_e5\n",
      "models/model_zj_c2_s0.1_b16_lr0.001_d0.5_e5.pth\n",
      "True\n",
      "1\n",
      "GeForce MX150\n",
      "0\n"
     ]
    }
   ],
   "source": [
    "import torch\n",
    "\n",
    "class Para:\n",
    "    # tensor_board_log_dir = 'runs/exp0'\n",
    "    feature_column_start_name = 'ep_ratio_ttm'\n",
    "    feature_column_end_name = 'BR'\n",
    "\n",
    "    # 模型设置\n",
    "    device = torch.device(\"cuda:0\" if torch.cuda.is_available() else \"cpu\")\n",
    "    classification = 2 # 2, 3\n",
    "\n",
    "    # 权重\n",
    "    cross_weight = list()\n",
    "    if classification == 3:\n",
    "        cross_weight = [1.0, 1.0 ,1.0]\n",
    "    elif classification == 2:\n",
    "        cross_weight = [1.0, 1.0]\n",
    "    elif classification == 5:\n",
    "        cross_weight = [1.0, 1.0, 1.0, 1.0, 1.0]\n",
    "\n",
    "    batch_size = 16\n",
    "    lr = 1e-3\n",
    "    drop = 0.5\n",
    "    epochs = 5\n",
    "\n",
    "    # 数据集设置\n",
    "    month_in_sample = range(0, 1)\n",
    "    # month_test = range(36, 48)\n",
    "\n",
    "    percent_cv = 0.1 # 10% cross validation\n",
    "\n",
    "    data_path = 'data/zj_space_1d_rate_20d_17-21_pre'\n",
    "\n",
    "\n",
    "    seed = 2022\n",
    "    torch.manual_seed(seed)\n",
    "\n",
    "    info_str0 = data_path[5:7]+'_'+'c'+str(classification)+'_s'+str(percent_cv)\n",
    "    info_str1 = '_b'+str(batch_size)+'_lr'+str(lr)+'_d'+str(drop)+'_e'+str(epochs)\n",
    "    info_str = info_str0 + info_str1\n",
    "\n",
    "    save_model_path = 'models/'+'model_'+info_str+'.pth'\n",
    "\n",
    "para = Para()\n",
    "print(para.info_str)\n",
    "print(para.save_model_path)\n",
    "print(torch.cuda.is_available())\n",
    "print(torch.cuda.device_count())\n",
    "if torch.cuda.is_available():\n",
    "    print(torch.cuda.get_device_name(0))\n",
    "    print(torch.cuda.current_device())"
   ]
  },
  {
   "cell_type": "markdown",
   "metadata": {
    "pycharm": {
     "name": "#%% md\n"
    }
   },
   "source": [
    "### 构建训练集"
   ]
  },
  {
   "cell_type": "code",
   "execution_count": 77,
   "metadata": {
    "pycharm": {
     "name": "#%%\n"
    }
   },
   "outputs": [
    {
     "data": {
      "text/plain": "      return_bin order_book_id board_type  sector_code  month        date  \\\n0            1.0   600895.XSHG  MainBoard  Industrials      0  2017-01-03   \n1            1.0   600895.XSHG  MainBoard  Industrials      1  2017-01-04   \n2            1.0   600895.XSHG  MainBoard  Industrials      2  2017-01-05   \n3            0.0   600895.XSHG  MainBoard  Industrials      3  2017-01-06   \n4            1.0   600895.XSHG  MainBoard  Industrials      4  2017-01-09   \n...          ...           ...        ...          ...    ...         ...   \n1189         0.0   600895.XSHG  MainBoard  Industrials   1192  2021-11-29   \n1190         0.0   600895.XSHG  MainBoard  Industrials   1193  2021-11-30   \n1191         0.0   600895.XSHG  MainBoard  Industrials   1194  2021-12-01   \n1192         0.0   600895.XSHG  MainBoard  Industrials   1195  2021-12-02   \n1193         0.0   600895.XSHG  MainBoard  Industrials   1196  2021-12-03   \n\n      yield_rate  ep_ratio_ttm  pb_ratio_ttm  sp_ratio_ttm  ...     RSI10  \\\n0      -0.114933     -0.791238      1.432009      2.812825  ... -0.011242   \n1      -0.142703     -0.796248      1.465440      2.781002  ...  0.607237   \n2      -0.085969     -0.796802      1.469155      2.777486  ...  0.418334   \n3       0.003819     -0.789557      1.420865      2.823504  ... -0.729904   \n4      -0.081338     -0.795694      1.461726      2.784522  ...  0.374730   \n...          ...           ...           ...           ...  ...       ...   \n1189    0.165186      2.047309     -1.456029      1.358008  ... -1.092140   \n1190    0.112782      2.018929     -1.428285      1.321979  ... -0.453417   \n1191    0.084123      2.008713     -1.418197      1.309009  ... -0.485559   \n1192    0.130370      2.034357     -1.443418      1.341565  ... -0.214241   \n1193    0.135895      2.029200     -1.438374      1.335018  ... -0.777074   \n\n            SY    BIAS20     VOL30     VOL60    VOL120    VOLT20    VOLT60  \\\n0     0.549024 -0.041903 -0.564230 -0.549325 -0.271267 -0.795472 -0.740978   \n1     0.549024  0.055605 -0.576310 -0.552245 -0.274636 -0.826546 -0.736372   \n2     0.549024  0.084119 -0.584643 -0.550836 -0.277450 -0.882262 -0.731683   \n3     0.549024 -0.008698 -0.590887 -0.552451 -0.289335 -0.951495 -0.725460   \n4     1.313049  0.109629 -0.607630 -0.551179 -0.297392 -1.040746 -0.721606   \n...        ...       ...       ...       ...       ...       ...       ...   \n1189 -0.215002 -0.245321 -0.642811 -0.558218 -0.371645 -0.954208 -0.016711   \n1190 -0.215002 -0.119088 -0.641637 -0.563386 -0.412730 -0.945411  0.004912   \n1191  0.549024 -0.065383 -0.641369 -0.565753 -0.455013 -0.944476  0.024277   \n1192 -0.215002 -0.156535 -0.639549 -0.582325 -0.471130 -0.935971  0.037707   \n1193  0.549024 -0.120591 -0.645867 -0.603131 -0.501547 -0.931431  0.041681   \n\n            AR        BR  \n0    -0.529566 -0.355811  \n1    -0.237217 -0.156750  \n2    -0.311444 -0.186746  \n3    -0.070957 -0.042307  \n4     0.040297 -0.024960  \n...        ...       ...  \n1189 -1.393978 -1.555949  \n1190 -1.501683 -1.416865  \n1191 -1.377001 -1.410093  \n1192 -1.233049 -1.308074  \n1193 -1.066083 -1.154890  \n\n[1194 rows x 23 columns]",
      "text/html": "<div>\n<style scoped>\n    .dataframe tbody tr th:only-of-type {\n        vertical-align: middle;\n    }\n\n    .dataframe tbody tr th {\n        vertical-align: top;\n    }\n\n    .dataframe thead th {\n        text-align: right;\n    }\n</style>\n<table border=\"1\" class=\"dataframe\">\n  <thead>\n    <tr style=\"text-align: right;\">\n      <th></th>\n      <th>return_bin</th>\n      <th>order_book_id</th>\n      <th>board_type</th>\n      <th>sector_code</th>\n      <th>month</th>\n      <th>date</th>\n      <th>yield_rate</th>\n      <th>ep_ratio_ttm</th>\n      <th>pb_ratio_ttm</th>\n      <th>sp_ratio_ttm</th>\n      <th>...</th>\n      <th>RSI10</th>\n      <th>SY</th>\n      <th>BIAS20</th>\n      <th>VOL30</th>\n      <th>VOL60</th>\n      <th>VOL120</th>\n      <th>VOLT20</th>\n      <th>VOLT60</th>\n      <th>AR</th>\n      <th>BR</th>\n    </tr>\n  </thead>\n  <tbody>\n    <tr>\n      <th>0</th>\n      <td>1.0</td>\n      <td>600895.XSHG</td>\n      <td>MainBoard</td>\n      <td>Industrials</td>\n      <td>0</td>\n      <td>2017-01-03</td>\n      <td>-0.114933</td>\n      <td>-0.791238</td>\n      <td>1.432009</td>\n      <td>2.812825</td>\n      <td>...</td>\n      <td>-0.011242</td>\n      <td>0.549024</td>\n      <td>-0.041903</td>\n      <td>-0.564230</td>\n      <td>-0.549325</td>\n      <td>-0.271267</td>\n      <td>-0.795472</td>\n      <td>-0.740978</td>\n      <td>-0.529566</td>\n      <td>-0.355811</td>\n    </tr>\n    <tr>\n      <th>1</th>\n      <td>1.0</td>\n      <td>600895.XSHG</td>\n      <td>MainBoard</td>\n      <td>Industrials</td>\n      <td>1</td>\n      <td>2017-01-04</td>\n      <td>-0.142703</td>\n      <td>-0.796248</td>\n      <td>1.465440</td>\n      <td>2.781002</td>\n      <td>...</td>\n      <td>0.607237</td>\n      <td>0.549024</td>\n      <td>0.055605</td>\n      <td>-0.576310</td>\n      <td>-0.552245</td>\n      <td>-0.274636</td>\n      <td>-0.826546</td>\n      <td>-0.736372</td>\n      <td>-0.237217</td>\n      <td>-0.156750</td>\n    </tr>\n    <tr>\n      <th>2</th>\n      <td>1.0</td>\n      <td>600895.XSHG</td>\n      <td>MainBoard</td>\n      <td>Industrials</td>\n      <td>2</td>\n      <td>2017-01-05</td>\n      <td>-0.085969</td>\n      <td>-0.796802</td>\n      <td>1.469155</td>\n      <td>2.777486</td>\n      <td>...</td>\n      <td>0.418334</td>\n      <td>0.549024</td>\n      <td>0.084119</td>\n      <td>-0.584643</td>\n      <td>-0.550836</td>\n      <td>-0.277450</td>\n      <td>-0.882262</td>\n      <td>-0.731683</td>\n      <td>-0.311444</td>\n      <td>-0.186746</td>\n    </tr>\n    <tr>\n      <th>3</th>\n      <td>0.0</td>\n      <td>600895.XSHG</td>\n      <td>MainBoard</td>\n      <td>Industrials</td>\n      <td>3</td>\n      <td>2017-01-06</td>\n      <td>0.003819</td>\n      <td>-0.789557</td>\n      <td>1.420865</td>\n      <td>2.823504</td>\n      <td>...</td>\n      <td>-0.729904</td>\n      <td>0.549024</td>\n      <td>-0.008698</td>\n      <td>-0.590887</td>\n      <td>-0.552451</td>\n      <td>-0.289335</td>\n      <td>-0.951495</td>\n      <td>-0.725460</td>\n      <td>-0.070957</td>\n      <td>-0.042307</td>\n    </tr>\n    <tr>\n      <th>4</th>\n      <td>1.0</td>\n      <td>600895.XSHG</td>\n      <td>MainBoard</td>\n      <td>Industrials</td>\n      <td>4</td>\n      <td>2017-01-09</td>\n      <td>-0.081338</td>\n      <td>-0.795694</td>\n      <td>1.461726</td>\n      <td>2.784522</td>\n      <td>...</td>\n      <td>0.374730</td>\n      <td>1.313049</td>\n      <td>0.109629</td>\n      <td>-0.607630</td>\n      <td>-0.551179</td>\n      <td>-0.297392</td>\n      <td>-1.040746</td>\n      <td>-0.721606</td>\n      <td>0.040297</td>\n      <td>-0.024960</td>\n    </tr>\n    <tr>\n      <th>...</th>\n      <td>...</td>\n      <td>...</td>\n      <td>...</td>\n      <td>...</td>\n      <td>...</td>\n      <td>...</td>\n      <td>...</td>\n      <td>...</td>\n      <td>...</td>\n      <td>...</td>\n      <td>...</td>\n      <td>...</td>\n      <td>...</td>\n      <td>...</td>\n      <td>...</td>\n      <td>...</td>\n      <td>...</td>\n      <td>...</td>\n      <td>...</td>\n      <td>...</td>\n      <td>...</td>\n    </tr>\n    <tr>\n      <th>1189</th>\n      <td>0.0</td>\n      <td>600895.XSHG</td>\n      <td>MainBoard</td>\n      <td>Industrials</td>\n      <td>1192</td>\n      <td>2021-11-29</td>\n      <td>0.165186</td>\n      <td>2.047309</td>\n      <td>-1.456029</td>\n      <td>1.358008</td>\n      <td>...</td>\n      <td>-1.092140</td>\n      <td>-0.215002</td>\n      <td>-0.245321</td>\n      <td>-0.642811</td>\n      <td>-0.558218</td>\n      <td>-0.371645</td>\n      <td>-0.954208</td>\n      <td>-0.016711</td>\n      <td>-1.393978</td>\n      <td>-1.555949</td>\n    </tr>\n    <tr>\n      <th>1190</th>\n      <td>0.0</td>\n      <td>600895.XSHG</td>\n      <td>MainBoard</td>\n      <td>Industrials</td>\n      <td>1193</td>\n      <td>2021-11-30</td>\n      <td>0.112782</td>\n      <td>2.018929</td>\n      <td>-1.428285</td>\n      <td>1.321979</td>\n      <td>...</td>\n      <td>-0.453417</td>\n      <td>-0.215002</td>\n      <td>-0.119088</td>\n      <td>-0.641637</td>\n      <td>-0.563386</td>\n      <td>-0.412730</td>\n      <td>-0.945411</td>\n      <td>0.004912</td>\n      <td>-1.501683</td>\n      <td>-1.416865</td>\n    </tr>\n    <tr>\n      <th>1191</th>\n      <td>0.0</td>\n      <td>600895.XSHG</td>\n      <td>MainBoard</td>\n      <td>Industrials</td>\n      <td>1194</td>\n      <td>2021-12-01</td>\n      <td>0.084123</td>\n      <td>2.008713</td>\n      <td>-1.418197</td>\n      <td>1.309009</td>\n      <td>...</td>\n      <td>-0.485559</td>\n      <td>0.549024</td>\n      <td>-0.065383</td>\n      <td>-0.641369</td>\n      <td>-0.565753</td>\n      <td>-0.455013</td>\n      <td>-0.944476</td>\n      <td>0.024277</td>\n      <td>-1.377001</td>\n      <td>-1.410093</td>\n    </tr>\n    <tr>\n      <th>1192</th>\n      <td>0.0</td>\n      <td>600895.XSHG</td>\n      <td>MainBoard</td>\n      <td>Industrials</td>\n      <td>1195</td>\n      <td>2021-12-02</td>\n      <td>0.130370</td>\n      <td>2.034357</td>\n      <td>-1.443418</td>\n      <td>1.341565</td>\n      <td>...</td>\n      <td>-0.214241</td>\n      <td>-0.215002</td>\n      <td>-0.156535</td>\n      <td>-0.639549</td>\n      <td>-0.582325</td>\n      <td>-0.471130</td>\n      <td>-0.935971</td>\n      <td>0.037707</td>\n      <td>-1.233049</td>\n      <td>-1.308074</td>\n    </tr>\n    <tr>\n      <th>1193</th>\n      <td>0.0</td>\n      <td>600895.XSHG</td>\n      <td>MainBoard</td>\n      <td>Industrials</td>\n      <td>1196</td>\n      <td>2021-12-03</td>\n      <td>0.135895</td>\n      <td>2.029200</td>\n      <td>-1.438374</td>\n      <td>1.335018</td>\n      <td>...</td>\n      <td>-0.777074</td>\n      <td>0.549024</td>\n      <td>-0.120591</td>\n      <td>-0.645867</td>\n      <td>-0.603131</td>\n      <td>-0.501547</td>\n      <td>-0.931431</td>\n      <td>0.041681</td>\n      <td>-1.066083</td>\n      <td>-1.154890</td>\n    </tr>\n  </tbody>\n</table>\n<p>1194 rows × 23 columns</p>\n</div>"
     },
     "execution_count": 77,
     "metadata": {},
     "output_type": "execute_result"
    }
   ],
   "source": [
    "import numpy as np\n",
    "import pandas as pd\n",
    "\n",
    "data_in_sample = None\n",
    "for i_month in para.month_in_sample:\n",
    "    file_name = para.data_path + '/' + str(i_month) + '.csv'\n",
    "    data_curr_month = pd.read_csv(file_name)\n",
    "\n",
    "    data_curr_month = data_curr_month.dropna(axis=0)\n",
    "\n",
    "    data_curr_month.insert(loc=0, column='return_bin', value=np.nan)\n",
    "\n",
    "    data_curr_month.loc[data_curr_month['yield_rate']>0, 'return_bin'] = 0\n",
    "    data_curr_month.loc[data_curr_month['yield_rate']<=0, 'return_bin'] = 1\n",
    "\n",
    "    if i_month == para.month_in_sample[0]:\n",
    "        data_in_sample = data_curr_month\n",
    "    else:\n",
    "        data_in_sample = pd.concat([data_in_sample, data_curr_month])\n",
    "        # data_in_sample = data_in_sample.append(data_curr_month)\n",
    "\n",
    "data_in_sample"
   ]
  },
  {
   "cell_type": "code",
   "execution_count": 78,
   "metadata": {
    "pycharm": {
     "name": "#%%\n"
    }
   },
   "outputs": [
    {
     "data": {
      "text/plain": "      ep_ratio_ttm  pb_ratio_ttm  sp_ratio_ttm  MACD_DIFF  MACD_DEA  \\\n0        -0.791238      1.432009      2.812825  -0.370625 -0.445848   \n1        -0.796248      1.465440      2.781002  -0.332546 -0.427616   \n2        -0.796802      1.469155      2.777486  -0.296543 -0.405518   \n3        -0.789557      1.420865      2.823504  -0.287260 -0.385903   \n4        -0.795694      1.461726      2.784522  -0.256703 -0.363834   \n...            ...           ...           ...        ...       ...   \n1069      1.882620     -0.069050      0.381447   1.090411  1.082809   \n1070      1.548900      0.441940      0.027573   1.355354  1.147511   \n1071      1.764803      0.100384      0.256514   1.324192  1.192771   \n1072      1.867228     -0.047534      0.365125   1.188336  1.200630   \n1073      1.732518      0.148793      0.222280   1.197672  1.208866   \n\n      MACD_HIST     RSI10        SY    BIAS20     VOL30     VOL60    VOL120  \\\n0      0.161384 -0.011242  0.549024 -0.041903 -0.564230 -0.549325 -0.271267   \n1      0.224682  0.607237  0.549024  0.055605 -0.576310 -0.552245 -0.274636   \n2      0.270218  0.418334  0.549024  0.084119 -0.584643 -0.550836 -0.277450   \n3      0.240978 -0.729904  0.549024 -0.008698 -0.590887 -0.552451 -0.289335   \n4      0.269870  0.374730  1.313049  0.109629 -0.607630 -0.551179 -0.297392   \n...         ...       ...       ...       ...       ...       ...       ...   \n1069   0.148608  0.803148  1.313049  0.479565 -0.167304 -0.413186 -0.480671   \n1070   0.772026  1.579800  2.077075  1.978701 -0.054721 -0.349578 -0.444601   \n1071   0.543023  0.693033  1.313049  0.753909  0.056861 -0.285012 -0.405725   \n1072   0.102511  0.226868  0.549024  0.175303  0.099657 -0.262937 -0.391219   \n1073   0.106943  0.483000  0.549024  0.719689  0.169329 -0.215210 -0.362032   \n\n        VOLT20    VOLT60        AR        BR  \n0    -0.795472 -0.740978 -0.529566 -0.355811  \n1    -0.826546 -0.736372 -0.237217 -0.156750  \n2    -0.882262 -0.731683 -0.311444 -0.186746  \n3    -0.951495 -0.725460 -0.070957 -0.042307  \n4    -1.040746 -0.721606  0.040297 -0.024960  \n...        ...       ...       ...       ...  \n1069  0.414797 -0.144454  0.734146  0.316231  \n1070  0.684860 -0.033462  1.661760  1.173297  \n1071  0.523496  0.002012  1.109373  0.743855  \n1072  0.187746  0.009831  0.903161  0.659904  \n1073  0.175553  0.033765  0.808639  1.179319  \n\n[1074 rows x 16 columns]",
      "text/html": "<div>\n<style scoped>\n    .dataframe tbody tr th:only-of-type {\n        vertical-align: middle;\n    }\n\n    .dataframe tbody tr th {\n        vertical-align: top;\n    }\n\n    .dataframe thead th {\n        text-align: right;\n    }\n</style>\n<table border=\"1\" class=\"dataframe\">\n  <thead>\n    <tr style=\"text-align: right;\">\n      <th></th>\n      <th>ep_ratio_ttm</th>\n      <th>pb_ratio_ttm</th>\n      <th>sp_ratio_ttm</th>\n      <th>MACD_DIFF</th>\n      <th>MACD_DEA</th>\n      <th>MACD_HIST</th>\n      <th>RSI10</th>\n      <th>SY</th>\n      <th>BIAS20</th>\n      <th>VOL30</th>\n      <th>VOL60</th>\n      <th>VOL120</th>\n      <th>VOLT20</th>\n      <th>VOLT60</th>\n      <th>AR</th>\n      <th>BR</th>\n    </tr>\n  </thead>\n  <tbody>\n    <tr>\n      <th>0</th>\n      <td>-0.791238</td>\n      <td>1.432009</td>\n      <td>2.812825</td>\n      <td>-0.370625</td>\n      <td>-0.445848</td>\n      <td>0.161384</td>\n      <td>-0.011242</td>\n      <td>0.549024</td>\n      <td>-0.041903</td>\n      <td>-0.564230</td>\n      <td>-0.549325</td>\n      <td>-0.271267</td>\n      <td>-0.795472</td>\n      <td>-0.740978</td>\n      <td>-0.529566</td>\n      <td>-0.355811</td>\n    </tr>\n    <tr>\n      <th>1</th>\n      <td>-0.796248</td>\n      <td>1.465440</td>\n      <td>2.781002</td>\n      <td>-0.332546</td>\n      <td>-0.427616</td>\n      <td>0.224682</td>\n      <td>0.607237</td>\n      <td>0.549024</td>\n      <td>0.055605</td>\n      <td>-0.576310</td>\n      <td>-0.552245</td>\n      <td>-0.274636</td>\n      <td>-0.826546</td>\n      <td>-0.736372</td>\n      <td>-0.237217</td>\n      <td>-0.156750</td>\n    </tr>\n    <tr>\n      <th>2</th>\n      <td>-0.796802</td>\n      <td>1.469155</td>\n      <td>2.777486</td>\n      <td>-0.296543</td>\n      <td>-0.405518</td>\n      <td>0.270218</td>\n      <td>0.418334</td>\n      <td>0.549024</td>\n      <td>0.084119</td>\n      <td>-0.584643</td>\n      <td>-0.550836</td>\n      <td>-0.277450</td>\n      <td>-0.882262</td>\n      <td>-0.731683</td>\n      <td>-0.311444</td>\n      <td>-0.186746</td>\n    </tr>\n    <tr>\n      <th>3</th>\n      <td>-0.789557</td>\n      <td>1.420865</td>\n      <td>2.823504</td>\n      <td>-0.287260</td>\n      <td>-0.385903</td>\n      <td>0.240978</td>\n      <td>-0.729904</td>\n      <td>0.549024</td>\n      <td>-0.008698</td>\n      <td>-0.590887</td>\n      <td>-0.552451</td>\n      <td>-0.289335</td>\n      <td>-0.951495</td>\n      <td>-0.725460</td>\n      <td>-0.070957</td>\n      <td>-0.042307</td>\n    </tr>\n    <tr>\n      <th>4</th>\n      <td>-0.795694</td>\n      <td>1.461726</td>\n      <td>2.784522</td>\n      <td>-0.256703</td>\n      <td>-0.363834</td>\n      <td>0.269870</td>\n      <td>0.374730</td>\n      <td>1.313049</td>\n      <td>0.109629</td>\n      <td>-0.607630</td>\n      <td>-0.551179</td>\n      <td>-0.297392</td>\n      <td>-1.040746</td>\n      <td>-0.721606</td>\n      <td>0.040297</td>\n      <td>-0.024960</td>\n    </tr>\n    <tr>\n      <th>...</th>\n      <td>...</td>\n      <td>...</td>\n      <td>...</td>\n      <td>...</td>\n      <td>...</td>\n      <td>...</td>\n      <td>...</td>\n      <td>...</td>\n      <td>...</td>\n      <td>...</td>\n      <td>...</td>\n      <td>...</td>\n      <td>...</td>\n      <td>...</td>\n      <td>...</td>\n      <td>...</td>\n    </tr>\n    <tr>\n      <th>1069</th>\n      <td>1.882620</td>\n      <td>-0.069050</td>\n      <td>0.381447</td>\n      <td>1.090411</td>\n      <td>1.082809</td>\n      <td>0.148608</td>\n      <td>0.803148</td>\n      <td>1.313049</td>\n      <td>0.479565</td>\n      <td>-0.167304</td>\n      <td>-0.413186</td>\n      <td>-0.480671</td>\n      <td>0.414797</td>\n      <td>-0.144454</td>\n      <td>0.734146</td>\n      <td>0.316231</td>\n    </tr>\n    <tr>\n      <th>1070</th>\n      <td>1.548900</td>\n      <td>0.441940</td>\n      <td>0.027573</td>\n      <td>1.355354</td>\n      <td>1.147511</td>\n      <td>0.772026</td>\n      <td>1.579800</td>\n      <td>2.077075</td>\n      <td>1.978701</td>\n      <td>-0.054721</td>\n      <td>-0.349578</td>\n      <td>-0.444601</td>\n      <td>0.684860</td>\n      <td>-0.033462</td>\n      <td>1.661760</td>\n      <td>1.173297</td>\n    </tr>\n    <tr>\n      <th>1071</th>\n      <td>1.764803</td>\n      <td>0.100384</td>\n      <td>0.256514</td>\n      <td>1.324192</td>\n      <td>1.192771</td>\n      <td>0.543023</td>\n      <td>0.693033</td>\n      <td>1.313049</td>\n      <td>0.753909</td>\n      <td>0.056861</td>\n      <td>-0.285012</td>\n      <td>-0.405725</td>\n      <td>0.523496</td>\n      <td>0.002012</td>\n      <td>1.109373</td>\n      <td>0.743855</td>\n    </tr>\n    <tr>\n      <th>1072</th>\n      <td>1.867228</td>\n      <td>-0.047534</td>\n      <td>0.365125</td>\n      <td>1.188336</td>\n      <td>1.200630</td>\n      <td>0.102511</td>\n      <td>0.226868</td>\n      <td>0.549024</td>\n      <td>0.175303</td>\n      <td>0.099657</td>\n      <td>-0.262937</td>\n      <td>-0.391219</td>\n      <td>0.187746</td>\n      <td>0.009831</td>\n      <td>0.903161</td>\n      <td>0.659904</td>\n    </tr>\n    <tr>\n      <th>1073</th>\n      <td>1.732518</td>\n      <td>0.148793</td>\n      <td>0.222280</td>\n      <td>1.197672</td>\n      <td>1.208866</td>\n      <td>0.106943</td>\n      <td>0.483000</td>\n      <td>0.549024</td>\n      <td>0.719689</td>\n      <td>0.169329</td>\n      <td>-0.215210</td>\n      <td>-0.362032</td>\n      <td>0.175553</td>\n      <td>0.033765</td>\n      <td>0.808639</td>\n      <td>1.179319</td>\n    </tr>\n  </tbody>\n</table>\n<p>1074 rows × 16 columns</p>\n</div>"
     },
     "execution_count": 78,
     "metadata": {},
     "output_type": "execute_result"
    }
   ],
   "source": [
    "X_in_sample = data_in_sample.loc[:, para.feature_column_start_name: para.feature_column_end_name]\n",
    "y_in_sample = data_in_sample.loc[:, 'return_bin']\n",
    "\n",
    "from sklearn.model_selection import train_test_split\n",
    "\n",
    "X_train, X_cv, y_train, y_cv = train_test_split(X_in_sample, y_in_sample, test_size=para.percent_cv, shuffle=False) # True, random_state=para.seed)\n",
    "# X_train, X_cv, y_train, y_cv = train_test_split(X_in_sample, y_in_sample, test_size=para.percent_cv, shuffle=False)\n",
    "\n",
    "X_train"
   ]
  },
  {
   "cell_type": "code",
   "execution_count": 79,
   "metadata": {
    "pycharm": {
     "name": "#%%\n"
    }
   },
   "outputs": [
    {
     "data": {
      "text/plain": "0       1.0\n1       1.0\n2       1.0\n3       0.0\n4       1.0\n       ... \n1069    1.0\n1070    1.0\n1071    1.0\n1072    1.0\n1073    1.0\nName: return_bin, Length: 1074, dtype: float64"
     },
     "execution_count": 79,
     "metadata": {},
     "output_type": "execute_result"
    }
   ],
   "source": [
    "y_train"
   ]
  },
  {
   "cell_type": "code",
   "execution_count": 80,
   "metadata": {
    "pycharm": {
     "name": "#%%\n"
    }
   },
   "outputs": [
    {
     "data": {
      "text/plain": "      ep_ratio_ttm  pb_ratio_ttm  sp_ratio_ttm  MACD_DIFF  MACD_DEA  \\\n0        -0.791238      1.432009      2.812825  -0.370625 -0.445848   \n1        -0.796248      1.465440      2.781002  -0.332546 -0.427616   \n2        -0.796802      1.469155      2.777486  -0.296543 -0.405518   \n3        -0.789557      1.420865      2.823504  -0.287260 -0.385903   \n4        -0.795694      1.461726      2.784522  -0.256703 -0.363834   \n...            ...           ...           ...        ...       ...   \n1069      1.882620     -0.069050      0.381447   1.090411  1.082809   \n1070      1.548900      0.441940      0.027573   1.355354  1.147511   \n1071      1.764803      0.100384      0.256514   1.324192  1.192771   \n1072      1.867228     -0.047534      0.365125   1.188336  1.200630   \n1073      1.732518      0.148793      0.222280   1.197672  1.208866   \n\n      MACD_HIST     RSI10        SY    BIAS20     VOL30     VOL60    VOL120  \\\n0      0.161384 -0.011242  0.549024 -0.041903 -0.564230 -0.549325 -0.271267   \n1      0.224682  0.607237  0.549024  0.055605 -0.576310 -0.552245 -0.274636   \n2      0.270218  0.418334  0.549024  0.084119 -0.584643 -0.550836 -0.277450   \n3      0.240978 -0.729904  0.549024 -0.008698 -0.590887 -0.552451 -0.289335   \n4      0.269870  0.374730  1.313049  0.109629 -0.607630 -0.551179 -0.297392   \n...         ...       ...       ...       ...       ...       ...       ...   \n1069   0.148608  0.803148  1.313049  0.479565 -0.167304 -0.413186 -0.480671   \n1070   0.772026  1.579800  2.077075  1.978701 -0.054721 -0.349578 -0.444601   \n1071   0.543023  0.693033  1.313049  0.753909  0.056861 -0.285012 -0.405725   \n1072   0.102511  0.226868  0.549024  0.175303  0.099657 -0.262937 -0.391219   \n1073   0.106943  0.483000  0.549024  0.719689  0.169329 -0.215210 -0.362032   \n\n        VOLT20    VOLT60        AR        BR  return_bin  \n0    -0.795472 -0.740978 -0.529566 -0.355811         1.0  \n1    -0.826546 -0.736372 -0.237217 -0.156750         1.0  \n2    -0.882262 -0.731683 -0.311444 -0.186746         1.0  \n3    -0.951495 -0.725460 -0.070957 -0.042307         0.0  \n4    -1.040746 -0.721606  0.040297 -0.024960         1.0  \n...        ...       ...       ...       ...         ...  \n1069  0.414797 -0.144454  0.734146  0.316231         1.0  \n1070  0.684860 -0.033462  1.661760  1.173297         1.0  \n1071  0.523496  0.002012  1.109373  0.743855         1.0  \n1072  0.187746  0.009831  0.903161  0.659904         1.0  \n1073  0.175553  0.033765  0.808639  1.179319         1.0  \n\n[1074 rows x 17 columns]",
      "text/html": "<div>\n<style scoped>\n    .dataframe tbody tr th:only-of-type {\n        vertical-align: middle;\n    }\n\n    .dataframe tbody tr th {\n        vertical-align: top;\n    }\n\n    .dataframe thead th {\n        text-align: right;\n    }\n</style>\n<table border=\"1\" class=\"dataframe\">\n  <thead>\n    <tr style=\"text-align: right;\">\n      <th></th>\n      <th>ep_ratio_ttm</th>\n      <th>pb_ratio_ttm</th>\n      <th>sp_ratio_ttm</th>\n      <th>MACD_DIFF</th>\n      <th>MACD_DEA</th>\n      <th>MACD_HIST</th>\n      <th>RSI10</th>\n      <th>SY</th>\n      <th>BIAS20</th>\n      <th>VOL30</th>\n      <th>VOL60</th>\n      <th>VOL120</th>\n      <th>VOLT20</th>\n      <th>VOLT60</th>\n      <th>AR</th>\n      <th>BR</th>\n      <th>return_bin</th>\n    </tr>\n  </thead>\n  <tbody>\n    <tr>\n      <th>0</th>\n      <td>-0.791238</td>\n      <td>1.432009</td>\n      <td>2.812825</td>\n      <td>-0.370625</td>\n      <td>-0.445848</td>\n      <td>0.161384</td>\n      <td>-0.011242</td>\n      <td>0.549024</td>\n      <td>-0.041903</td>\n      <td>-0.564230</td>\n      <td>-0.549325</td>\n      <td>-0.271267</td>\n      <td>-0.795472</td>\n      <td>-0.740978</td>\n      <td>-0.529566</td>\n      <td>-0.355811</td>\n      <td>1.0</td>\n    </tr>\n    <tr>\n      <th>1</th>\n      <td>-0.796248</td>\n      <td>1.465440</td>\n      <td>2.781002</td>\n      <td>-0.332546</td>\n      <td>-0.427616</td>\n      <td>0.224682</td>\n      <td>0.607237</td>\n      <td>0.549024</td>\n      <td>0.055605</td>\n      <td>-0.576310</td>\n      <td>-0.552245</td>\n      <td>-0.274636</td>\n      <td>-0.826546</td>\n      <td>-0.736372</td>\n      <td>-0.237217</td>\n      <td>-0.156750</td>\n      <td>1.0</td>\n    </tr>\n    <tr>\n      <th>2</th>\n      <td>-0.796802</td>\n      <td>1.469155</td>\n      <td>2.777486</td>\n      <td>-0.296543</td>\n      <td>-0.405518</td>\n      <td>0.270218</td>\n      <td>0.418334</td>\n      <td>0.549024</td>\n      <td>0.084119</td>\n      <td>-0.584643</td>\n      <td>-0.550836</td>\n      <td>-0.277450</td>\n      <td>-0.882262</td>\n      <td>-0.731683</td>\n      <td>-0.311444</td>\n      <td>-0.186746</td>\n      <td>1.0</td>\n    </tr>\n    <tr>\n      <th>3</th>\n      <td>-0.789557</td>\n      <td>1.420865</td>\n      <td>2.823504</td>\n      <td>-0.287260</td>\n      <td>-0.385903</td>\n      <td>0.240978</td>\n      <td>-0.729904</td>\n      <td>0.549024</td>\n      <td>-0.008698</td>\n      <td>-0.590887</td>\n      <td>-0.552451</td>\n      <td>-0.289335</td>\n      <td>-0.951495</td>\n      <td>-0.725460</td>\n      <td>-0.070957</td>\n      <td>-0.042307</td>\n      <td>0.0</td>\n    </tr>\n    <tr>\n      <th>4</th>\n      <td>-0.795694</td>\n      <td>1.461726</td>\n      <td>2.784522</td>\n      <td>-0.256703</td>\n      <td>-0.363834</td>\n      <td>0.269870</td>\n      <td>0.374730</td>\n      <td>1.313049</td>\n      <td>0.109629</td>\n      <td>-0.607630</td>\n      <td>-0.551179</td>\n      <td>-0.297392</td>\n      <td>-1.040746</td>\n      <td>-0.721606</td>\n      <td>0.040297</td>\n      <td>-0.024960</td>\n      <td>1.0</td>\n    </tr>\n    <tr>\n      <th>...</th>\n      <td>...</td>\n      <td>...</td>\n      <td>...</td>\n      <td>...</td>\n      <td>...</td>\n      <td>...</td>\n      <td>...</td>\n      <td>...</td>\n      <td>...</td>\n      <td>...</td>\n      <td>...</td>\n      <td>...</td>\n      <td>...</td>\n      <td>...</td>\n      <td>...</td>\n      <td>...</td>\n      <td>...</td>\n    </tr>\n    <tr>\n      <th>1069</th>\n      <td>1.882620</td>\n      <td>-0.069050</td>\n      <td>0.381447</td>\n      <td>1.090411</td>\n      <td>1.082809</td>\n      <td>0.148608</td>\n      <td>0.803148</td>\n      <td>1.313049</td>\n      <td>0.479565</td>\n      <td>-0.167304</td>\n      <td>-0.413186</td>\n      <td>-0.480671</td>\n      <td>0.414797</td>\n      <td>-0.144454</td>\n      <td>0.734146</td>\n      <td>0.316231</td>\n      <td>1.0</td>\n    </tr>\n    <tr>\n      <th>1070</th>\n      <td>1.548900</td>\n      <td>0.441940</td>\n      <td>0.027573</td>\n      <td>1.355354</td>\n      <td>1.147511</td>\n      <td>0.772026</td>\n      <td>1.579800</td>\n      <td>2.077075</td>\n      <td>1.978701</td>\n      <td>-0.054721</td>\n      <td>-0.349578</td>\n      <td>-0.444601</td>\n      <td>0.684860</td>\n      <td>-0.033462</td>\n      <td>1.661760</td>\n      <td>1.173297</td>\n      <td>1.0</td>\n    </tr>\n    <tr>\n      <th>1071</th>\n      <td>1.764803</td>\n      <td>0.100384</td>\n      <td>0.256514</td>\n      <td>1.324192</td>\n      <td>1.192771</td>\n      <td>0.543023</td>\n      <td>0.693033</td>\n      <td>1.313049</td>\n      <td>0.753909</td>\n      <td>0.056861</td>\n      <td>-0.285012</td>\n      <td>-0.405725</td>\n      <td>0.523496</td>\n      <td>0.002012</td>\n      <td>1.109373</td>\n      <td>0.743855</td>\n      <td>1.0</td>\n    </tr>\n    <tr>\n      <th>1072</th>\n      <td>1.867228</td>\n      <td>-0.047534</td>\n      <td>0.365125</td>\n      <td>1.188336</td>\n      <td>1.200630</td>\n      <td>0.102511</td>\n      <td>0.226868</td>\n      <td>0.549024</td>\n      <td>0.175303</td>\n      <td>0.099657</td>\n      <td>-0.262937</td>\n      <td>-0.391219</td>\n      <td>0.187746</td>\n      <td>0.009831</td>\n      <td>0.903161</td>\n      <td>0.659904</td>\n      <td>1.0</td>\n    </tr>\n    <tr>\n      <th>1073</th>\n      <td>1.732518</td>\n      <td>0.148793</td>\n      <td>0.222280</td>\n      <td>1.197672</td>\n      <td>1.208866</td>\n      <td>0.106943</td>\n      <td>0.483000</td>\n      <td>0.549024</td>\n      <td>0.719689</td>\n      <td>0.169329</td>\n      <td>-0.215210</td>\n      <td>-0.362032</td>\n      <td>0.175553</td>\n      <td>0.033765</td>\n      <td>0.808639</td>\n      <td>1.179319</td>\n      <td>1.0</td>\n    </tr>\n  </tbody>\n</table>\n<p>1074 rows × 17 columns</p>\n</div>"
     },
     "execution_count": 80,
     "metadata": {},
     "output_type": "execute_result"
    }
   ],
   "source": [
    "data_train = pd.concat([X_train, y_train], axis=1)\n",
    "data_cv = pd.concat([X_cv, y_cv], axis=1)\n",
    "data_train"
   ]
  },
  {
   "cell_type": "code",
   "execution_count": 81,
   "metadata": {
    "pycharm": {
     "name": "#%%\n"
    }
   },
   "outputs": [],
   "source": [
    "from torch.utils.data import TensorDataset\n",
    "import torch\n",
    "\n",
    "X_train_ndarray = X_train.values\n",
    "y_train_ndarray = y_train.values\n",
    "\n",
    "train_dataset = TensorDataset(torch.from_numpy(X_train_ndarray).type(torch.FloatTensor), torch.from_numpy(y_train_ndarray).type(torch.LongTensor))\n",
    "\n",
    "# for X_train_temp, y_train_temp in train_dataset:\n",
    "#     print(X_train_temp, y_train_temp)\n",
    "#     print(X_train_temp.dtype, y_train_temp.dtype)"
   ]
  },
  {
   "cell_type": "code",
   "execution_count": 82,
   "metadata": {
    "pycharm": {
     "name": "#%%\n"
    }
   },
   "outputs": [],
   "source": [
    "X_cv_ndarray = X_cv.values\n",
    "y_cv_ndarray = y_cv.values\n",
    "\n",
    "cv_dataset = TensorDataset(torch.from_numpy(X_cv_ndarray).type(torch.FloatTensor), torch.from_numpy(y_cv.values).type(torch.LongTensor))\n",
    "\n",
    "# for X_cv_temp, y_cv_temp in cv_dataset:\n",
    "#     print(X_cv_temp, y_cv_temp)\n",
    "#     print(X_cv_temp.dtype, y_cv_temp.dtype)"
   ]
  },
  {
   "cell_type": "code",
   "execution_count": 83,
   "metadata": {
    "pycharm": {
     "name": "#%%\n"
    }
   },
   "outputs": [],
   "source": [
    "from torch.utils.data import DataLoader\n",
    "\n",
    "\n",
    "train_dataloader = DataLoader(\n",
    "    dataset=train_dataset,\n",
    "    batch_size=para.batch_size,\n",
    "    shuffle=True\n",
    ")\n",
    "\n",
    "cv_dataloader = DataLoader(\n",
    "    dataset=cv_dataset,\n",
    "    batch_size=para.batch_size,\n",
    "    shuffle=True\n",
    ")"
   ]
  },
  {
   "cell_type": "markdown",
   "metadata": {
    "pycharm": {
     "name": "#%% md\n"
    }
   },
   "source": [
    "### 构建测试集"
   ]
  },
  {
   "cell_type": "code",
   "execution_count": 84,
   "metadata": {
    "pycharm": {
     "name": "#%%\n"
    }
   },
   "outputs": [],
   "source": [
    "# data_test = None\n",
    "# for i_month in para.month_test:\n",
    "#\n",
    "#     file_name = para.data_path + '/' + str(i_month) + '.csv'\n",
    "#     data_curr_month = pd.read_csv(file_name)\n",
    "#\n",
    "#     data_curr_month = data_curr_month.dropna(axis=0)\n",
    "#\n",
    "#     data_curr_month = label_data(data=data_curr_month, percent_select=para.percent_select)\n",
    "#\n",
    "#     if i_month == para.month_test[0]:\n",
    "#         data_test = data_curr_month\n",
    "#     else:\n",
    "#         data_test = pd.concat([data_test, data_curr_month])\n",
    "#         # data_test = data_test.append(data_curr_month)\n",
    "#\n",
    "# X_test = data_test.loc[:, para.feature_column_start_name: para.feature_column_end_name]\n",
    "# y_test = data_test.loc[:, 'return_bin']"
   ]
  },
  {
   "cell_type": "code",
   "execution_count": 85,
   "metadata": {
    "pycharm": {
     "name": "#%%\n"
    }
   },
   "outputs": [],
   "source": [
    "# from torch.utils.data import TensorDataset\n",
    "# import torch\n",
    "#\n",
    "#\n",
    "# X_test_ndarray = X_test.values\n",
    "# y_test_ndarray = y_test.values\n",
    "#\n",
    "# test_dataset = TensorDataset(torch.from_numpy(X_test_ndarray).type(torch.FloatTensor), torch.from_numpy(y_test_ndarray).type(torch.LongTensor))"
   ]
  },
  {
   "cell_type": "code",
   "execution_count": 86,
   "metadata": {
    "pycharm": {
     "name": "#%%\n"
    }
   },
   "outputs": [],
   "source": [
    "# from torch.utils.data import DataLoader\n",
    "#\n",
    "#\n",
    "# test_dataloader = DataLoader(\n",
    "#     dataset=test_dataset,\n",
    "#     batch_size=para.batch_size,\n",
    "#     shuffle=True,\n",
    "# )"
   ]
  },
  {
   "cell_type": "markdown",
   "metadata": {
    "pycharm": {
     "name": "#%% md\n"
    }
   },
   "source": [
    "### 构建神经网络"
   ]
  },
  {
   "cell_type": "code",
   "execution_count": 87,
   "metadata": {
    "pycharm": {
     "name": "#%%\n"
    }
   },
   "outputs": [
    {
     "name": "stdout",
     "output_type": "stream",
     "text": [
      "MLP(\n",
      "  (linear_stack): Sequential(\n",
      "    (0): Linear(in_features=16, out_features=16, bias=True)\n",
      "    (1): Dropout(p=0.5, inplace=False)\n",
      "    (2): ReLU()\n",
      "    (3): Linear(in_features=16, out_features=8, bias=True)\n",
      "    (4): Dropout(p=0.5, inplace=False)\n",
      "    (5): ReLU()\n",
      "    (6): Linear(in_features=8, out_features=2, bias=True)\n",
      "  )\n",
      ")\n"
     ]
    }
   ],
   "source": [
    "from my_utils.model_class import MLP\n",
    "\n",
    "model = MLP(in_nums=len(X_train.columns), out_nums=para.classification, drop_p=para.drop)\n",
    "# to device\n",
    "model = model.to(device=para.device)\n",
    "print(model)"
   ]
  },
  {
   "cell_type": "markdown",
   "metadata": {
    "pycharm": {
     "name": "#%% md\n"
    }
   },
   "source": [
    "### 训练与测试"
   ]
  },
  {
   "cell_type": "code",
   "execution_count": 88,
   "metadata": {
    "pycharm": {
     "name": "#%%\n"
    }
   },
   "outputs": [],
   "source": [
    "import torchmetrics\n",
    "\n",
    "\n",
    "def train_loop(dataloader, model, loss_fn, optimizer):\n",
    "    size = len(dataloader.dataset)\n",
    "    num_batches = len(dataloader)\n",
    "    train_loss, correct = 0, 0\n",
    "\n",
    "    # initialize metric\n",
    "    train_precision = torchmetrics.Precision(average='none', num_classes=para.classification).to(device=para.device)\n",
    "\n",
    "    for batch, (X, y) in enumerate(dataloader):\n",
    "\n",
    "        # to device\n",
    "        X = X.to(device=para.device)\n",
    "        y = y.to(device=para.device)\n",
    "\n",
    "        # compute prediction and loss\n",
    "        pred = model(X)\n",
    "        loss = loss_fn(pred, y)\n",
    "\n",
    "        train_loss += loss_fn(pred, y).item()\n",
    "        correct += (pred.argmax(1) == y).type(torch.float).sum().item()\n",
    "\n",
    "        # metric on current batch\n",
    "        train_precision(pred.argmax(1), y)\n",
    "\n",
    "        # Backpropagation\n",
    "        optimizer.zero_grad()\n",
    "        loss.backward()\n",
    "        optimizer.step()\n",
    "\n",
    "        # if batch % 10 == 0:\n",
    "        #     loss, current = loss.item(), batch * len(X)\n",
    "        #     print(f\"loss: {loss:>7f}  [{current:>5d}/{size:>5d}]\")\n",
    "\n",
    "    train_loss /= num_batches\n",
    "    correct /= size\n",
    "    print(f\"Train Error: \\n    Accuracy: {(100*correct):>0.1f}%, Avg loss: {train_loss:>8f} \\n\")\n",
    "\n",
    "    # metric on all batches using custom accumulation\n",
    "    total_precision = train_precision.compute()\n",
    "    print(\"Precision of every train dataset class: \", total_precision)\n",
    "    print()\n",
    "\n",
    "    return correct, train_loss, total_precision\n",
    "\n",
    "\n",
    "def test_loop(dataloader, model, loss_fn):\n",
    "    size = len(dataloader.dataset)\n",
    "    num_batches = len(dataloader)\n",
    "    test_loss, correct = 0, 0\n",
    "\n",
    "    # initialize metric\n",
    "    test_precision = torchmetrics.Precision(average='none', num_classes=para.classification).to(device=para.device)\n",
    "\n",
    "    with torch.no_grad():\n",
    "        for X, y in dataloader:\n",
    "\n",
    "            # to device\n",
    "            X = X.to(device=para.device)\n",
    "            y = y.to(device=para.device)\n",
    "\n",
    "            # compute prediction and loss\n",
    "            pred = model(X)\n",
    "            test_loss += loss_fn(pred, y).item()\n",
    "            correct += (pred.argmax(1) == y).type(torch.float).sum().item()\n",
    "\n",
    "            # metric on current batch\n",
    "            test_precision(pred.argmax(1), y)\n",
    "\n",
    "\n",
    "    test_loss /= num_batches\n",
    "    correct /= size\n",
    "    print(f\"Test Error: \\n    Accuracy: {(100*correct):>0.1f}%, Avg loss: {test_loss:>8f} \\n\")\n",
    "\n",
    "    # metric on all batches using custom accumulation\n",
    "    total_precision = test_precision.compute()\n",
    "    print(\"Precision of every test dataset class: \", total_precision)\n",
    "    print()\n",
    "\n",
    "    return correct, test_loss, total_precision"
   ]
  },
  {
   "cell_type": "code",
   "execution_count": 89,
   "metadata": {
    "pycharm": {
     "name": "#%%\n"
    }
   },
   "outputs": [],
   "source": [
    "def select_df_to_dataloader(df: pd.DataFrame, select: int) -> DataLoader:\n",
    "\n",
    "    df = df[df['return_bin'] == select]\n",
    "\n",
    "    df_dataset = TensorDataset(\n",
    "        torch.from_numpy(df.loc[:, para.feature_column_start_name: para.feature_column_end_name].values).type(torch.FloatTensor),\n",
    "        torch.from_numpy(df.loc[:, 'return_bin'].values).type(torch.LongTensor))\n",
    "\n",
    "    df_dataloader = DataLoader(\n",
    "        dataset=df_dataset,\n",
    "        batch_size=para.batch_size,\n",
    "        shuffle=True,\n",
    "    )\n",
    "\n",
    "    return df_dataloader"
   ]
  },
  {
   "cell_type": "code",
   "execution_count": 90,
   "metadata": {
    "pycharm": {
     "name": "#%%\n"
    }
   },
   "outputs": [],
   "source": [
    "# temp2_dataloader = select_df_to_dataloader(df=data_cv, select=2)\n",
    "temp1_dataloader = select_df_to_dataloader(df=data_cv, select=1)\n",
    "temp0_dataloader = select_df_to_dataloader(df=data_cv, select=0)"
   ]
  },
  {
   "cell_type": "code",
   "execution_count": 91,
   "metadata": {
    "pycharm": {
     "name": "#%%\n"
    }
   },
   "outputs": [
    {
     "name": "stdout",
     "output_type": "stream",
     "text": [
      "Epoch 1\n",
      "-------------------------------\n",
      "Train Error: \n",
      "    Accuracy: 55.2%, Avg loss: 0.686112 \n",
      "\n",
      "Precision of every train dataset class:  tensor([0.4607, 0.5824], device='cuda:0')\n",
      "\n",
      "Test Error: \n",
      "    Accuracy: 61.7%, Avg loss: 0.686758 \n",
      "\n",
      "Precision of every test dataset class:  tensor([0.2000, 0.6348], device='cuda:0')\n",
      "\n",
      "Time cost = 1.158901s\n",
      "\n",
      "Epoch 2\n",
      "-------------------------------\n",
      "Train Error: \n",
      "    Accuracy: 56.5%, Avg loss: 0.681254 \n",
      "\n",
      "Precision of every train dataset class:  tensor([0.4793, 0.5812], device='cuda:0')\n",
      "\n",
      "Test Error: \n",
      "    Accuracy: 65.0%, Avg loss: 0.683742 \n",
      "\n",
      "Precision of every test dataset class:  tensor([1.0000, 0.6471], device='cuda:0')\n",
      "\n",
      "Time cost = 2.177240s\n",
      "\n",
      "Epoch 3\n",
      "-------------------------------\n",
      "Train Error: \n",
      "    Accuracy: 57.8%, Avg loss: 0.682169 \n",
      "\n",
      "Precision of every train dataset class:  tensor([0.5361, 0.5824], device='cuda:0')\n",
      "\n",
      "Test Error: \n",
      "    Accuracy: 65.8%, Avg loss: 0.680215 \n",
      "\n",
      "Precision of every test dataset class:  tensor([0.7500, 0.6552], device='cuda:0')\n",
      "\n",
      "Time cost = 3.053897s\n",
      "\n",
      "Epoch 4\n",
      "-------------------------------\n",
      "Train Error: \n",
      "    Accuracy: 59.3%, Avg loss: 0.678905 \n",
      "\n",
      "Precision of every train dataset class:  tensor([0.6186, 0.5906], device='cuda:0')\n",
      "\n",
      "Test Error: \n",
      "    Accuracy: 63.3%, Avg loss: 0.681199 \n",
      "\n",
      "Precision of every test dataset class:  tensor([0.4444, 0.6486], device='cuda:0')\n",
      "\n",
      "Time cost = 3.851984s\n",
      "\n",
      "Epoch 5\n",
      "-------------------------------\n",
      "Train Error: \n",
      "    Accuracy: 59.2%, Avg loss: 0.674721 \n",
      "\n",
      "Precision of every train dataset class:  tensor([0.6122, 0.5902], device='cuda:0')\n",
      "\n",
      "Test Error: \n",
      "    Accuracy: 50.0%, Avg loss: 0.686141 \n",
      "\n",
      "Precision of every test dataset class:  tensor([0.2258, 0.5955], device='cuda:0')\n",
      "\n",
      "Time cost = 4.752255s\n",
      "\n",
      "Done!\n"
     ]
    }
   ],
   "source": [
    "from torch import nn\n",
    "import time\n",
    "from torch.utils.tensorboard import SummaryWriter\n",
    "\n",
    "# 计时\n",
    "time_start = time.time()\n",
    "\n",
    "# writer = SummaryWriter(para.tensor_board_log_dir)\n",
    "writer = SummaryWriter()\n",
    "\n",
    "# 损失函数\n",
    "loss_fn = nn.CrossEntropyLoss()\n",
    "# to device\n",
    "loss_fn = loss_fn.to(device=para.device)\n",
    "\n",
    "# 优化器\n",
    "optimizer = torch.optim.Adam(model.parameters(), lr=para.lr)\n",
    "\n",
    "epochs = para.epochs\n",
    "for t in range(epochs):\n",
    "    print(f\"Epoch {t+1}\\n-------------------------------\")\n",
    "\n",
    "    model.train()\n",
    "    accuracy_train, loss_train, precision_train = train_loop(train_dataloader, model, loss_fn, optimizer)\n",
    "    model.eval()\n",
    "    accuracy_cv, loss_cv, precision_cv = test_loop(cv_dataloader, model, loss_fn)\n",
    "\n",
    "    # accuracy2 = test_loop(temp2_dataloader, model, loss_fn)\n",
    "    # print('#')\n",
    "    # accuracy1 = test_loop(temp1_dataloader, model, loss_fn)\n",
    "    # accuracy0 = test_loop(temp0_dataloader, model, loss_fn)\n",
    "\n",
    "    # 写入 tensorboard\n",
    "    if para.classification == 2:\n",
    "\n",
    "        writer.add_scalars(main_tag=para.info_str+'_evaluation/cv',\n",
    "                           tag_scalar_dict={\n",
    "                               'accuracy': accuracy_cv,\n",
    "                               'precision0': precision_cv[0],\n",
    "                               'precision1': precision_cv[1]},\n",
    "                           global_step=t)\n",
    "\n",
    "        writer.add_scalars(main_tag=para.info_str+'_evaluation/train',\n",
    "                           tag_scalar_dict={\n",
    "                               'accuracy': accuracy_train,\n",
    "                               'precision0': precision_train[0],\n",
    "                               'precision1': precision_train[1]},\n",
    "                           global_step=t)\n",
    "\n",
    "    elif para.classification == 3:\n",
    "\n",
    "        writer.add_scalars(main_tag=para.info_str+'_evaluation/cv',\n",
    "                           tag_scalar_dict={\n",
    "                               'accuracy': accuracy_cv,\n",
    "                               'precision0': precision_cv[0],\n",
    "                               'precision1': precision_cv[1],\n",
    "                               'precision2': precision_cv[2]},\n",
    "                           global_step=t)\n",
    "\n",
    "        writer.add_scalars(main_tag=para.info_str+'_evaluation/train',\n",
    "                           tag_scalar_dict={\n",
    "                               'accuracy': accuracy_train,\n",
    "                               'precision0': precision_train[0],\n",
    "                               'precision1': precision_train[1],\n",
    "                               'precision2': precision_train[2]},\n",
    "                           global_step=t)\n",
    "\n",
    "    elif para.classification == 5:\n",
    "\n",
    "        writer.add_scalars(main_tag=para.info_str+'_evaluation/cv',\n",
    "                           tag_scalar_dict={\n",
    "                               'accuracy': accuracy_cv,\n",
    "                               'precision0': precision_cv[0],\n",
    "                               'precision1': precision_cv[1],\n",
    "                               'precision2': precision_cv[2],\n",
    "                               'precision3': precision_cv[3],\n",
    "                               'precision4': precision_cv[4]},\n",
    "                           global_step=t)\n",
    "\n",
    "        writer.add_scalars(main_tag=para.info_str+'_evaluation/train',\n",
    "                           tag_scalar_dict={\n",
    "                               'accuracy': accuracy_train,\n",
    "                               'precision0': precision_train[0],\n",
    "                               'precision1': precision_train[1],\n",
    "                               'precision2': precision_train[2],\n",
    "                               'precision3': precision_train[3],\n",
    "                               'precision4': precision_train[4]},\n",
    "                           global_step=t)\n",
    "\n",
    "    writer.add_scalars(main_tag=para.info_str+'_loss/cv',\n",
    "                       tag_scalar_dict={\n",
    "                           'loss': loss_cv},\n",
    "                       global_step=t)\n",
    "\n",
    "    writer.add_scalars(main_tag=para.info_str+'_loss/train',\n",
    "                       tag_scalar_dict={\n",
    "                           'loss': loss_train},\n",
    "                       global_step=t)\n",
    "    writer.flush()\n",
    "\n",
    "    time_end = time.time()\n",
    "    print('Time cost = %fs' % (time_end - time_start))\n",
    "    print()\n",
    "\n",
    "writer.close()\n",
    "\n",
    "print(\"Done!\")"
   ]
  },
  {
   "cell_type": "markdown",
   "source": [
    "## 保存模型"
   ],
   "metadata": {
    "collapsed": false,
    "pycharm": {
     "name": "#%% md\n"
    }
   }
  },
  {
   "cell_type": "code",
   "execution_count": 92,
   "outputs": [
    {
     "name": "stdout",
     "output_type": "stream",
     "text": [
      "Finish save model!\n"
     ]
    }
   ],
   "source": [
    "torch.save(model.state_dict(), para.save_model_path)\n",
    "\n",
    "print('Finish save model!')"
   ],
   "metadata": {
    "collapsed": false,
    "pycharm": {
     "name": "#%%\n"
    }
   }
  },
  {
   "cell_type": "markdown",
   "metadata": {
    "pycharm": {
     "name": "#%% md\n"
    }
   },
   "source": [
    "## captum"
   ]
  },
  {
   "cell_type": "code",
   "execution_count": 93,
   "metadata": {
    "pycharm": {
     "name": "#%%\n"
    }
   },
   "outputs": [],
   "source": [
    "# # captum\n",
    "# from captum.attr import IntegratedGradients\n",
    "#\n",
    "# ig = IntegratedGradients(model)"
   ]
  },
  {
   "cell_type": "code",
   "execution_count": 94,
   "metadata": {
    "pycharm": {
     "name": "#%%\n"
    }
   },
   "outputs": [],
   "source": [
    "# temp = cv_dataloader.dataset.tensors[0]\n",
    "# temp.requires_grad_()\n",
    "# attr, delta = ig.attribute(temp,target=1, return_convergence_delta=True)\n",
    "# attr = attr.detach().numpy()"
   ]
  },
  {
   "cell_type": "code",
   "execution_count": 95,
   "metadata": {
    "pycharm": {
     "name": "#%%\n"
    }
   },
   "outputs": [],
   "source": [
    "# # Helper method to print importances and visualize distribution\n",
    "# def visualize_importances(feature_names, importances, title=\"Average Feature Importances\", plot=True, axis_title=\"Features\"):\n",
    "#     print(title)\n",
    "#     for i in range(len(feature_names)):\n",
    "#         print(feature_names[i], \": \", '%.3f'%(importances[i]))\n",
    "#     y_pos = (np.arange(len(feature_names)))\n",
    "#     if plot:\n",
    "#         plt.figure(figsize=(20,6))\n",
    "#         plt.barh(y_pos, importances, align='center')\n",
    "#         plt.yticks(y_pos, feature_names)\n",
    "#         plt.ylabel(axis_title)\n",
    "#         plt.grid(axis='y')\n",
    "#         plt.title(title)\n",
    "# visualize_importances(feature_names=X_cv.columns.values.tolist(), importances=np.mean(attr, axis=0))"
   ]
  },
  {
   "cell_type": "code",
   "execution_count": 96,
   "metadata": {
    "pycharm": {
     "name": "#%%\n"
    }
   },
   "outputs": [],
   "source": [
    "# X_cv.columns.values.tolist()"
   ]
  },
  {
   "cell_type": "code",
   "execution_count": 97,
   "metadata": {
    "pycharm": {
     "name": "#%%\n"
    }
   },
   "outputs": [],
   "source": [
    "# loss = nn.CrossEntropyLoss()\n",
    "# input = torch.Tensor(\n",
    "#     [[-0.0441,  0.0773],\n",
    "#     [-0.0781, -0.1772],\n",
    "#     [-0.1319, -0.0432],\n",
    "#     [-0.0714, -0.1261],\n",
    "#     [-0.0806, -0.1370],\n",
    "#     [-0.1730, -0.1472],\n",
    "#     [-0.0350, -0.0507],\n",
    "#     [-0.1149, -0.2248]])\n",
    "# # input = input.reshape(-1,4)\n",
    "# target = torch.Tensor([0, 1, 1, 0, 0, 0, 0, 0]).type(torch.LongTensor)\n",
    "# print(input.dtype)\n",
    "# print(target.dtype)\n",
    "# output = loss(input, target)\n",
    "# print(input, target, output)"
   ]
  },
  {
   "cell_type": "code",
   "execution_count": 98,
   "metadata": {
    "pycharm": {
     "name": "#%%\n"
    }
   },
   "outputs": [],
   "source": [
    "# # Example of target with class indices\n",
    "# loss = nn.CrossEntropyLoss()\n",
    "# input = torch.randn(3, 5, requires_grad=True)\n",
    "# target = torch.Tensor([1,4,1]).type(torch.LongTensor)\n",
    "# output = loss(input, target)\n",
    "# print(input,target,output)"
   ]
  },
  {
   "cell_type": "code",
   "execution_count": 99,
   "metadata": {
    "pycharm": {
     "name": "#%%\n"
    }
   },
   "outputs": [],
   "source": [
    "# loss = nn.BCEWithLogitsLoss()\n",
    "# input = torch.Tensor([0.5, 0.4, 0.3])\n",
    "# target = torch.Tensor([0])\n",
    "# output = loss(input, target)\n",
    "# print(input, target, output)"
   ]
  }
 ],
 "metadata": {
  "kernelspec": {
   "display_name": "Python 3 (ipykernel)",
   "language": "python",
   "name": "python3"
  },
  "language_info": {
   "codemirror_mode": {
    "name": "ipython",
    "version": 3
   },
   "file_extension": ".py",
   "mimetype": "text/x-python",
   "name": "python",
   "nbconvert_exporter": "python",
   "pygments_lexer": "ipython3",
   "version": "3.8.10"
  }
 },
 "nbformat": 4,
 "nbformat_minor": 1
}