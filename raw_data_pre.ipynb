{
 "cells": [
  {
   "cell_type": "code",
   "execution_count": 10,
   "outputs": [
    {
     "name": "stdout",
     "output_type": "stream",
     "text": [
      "1197\n"
     ]
    }
   ],
   "source": [
    "import os\n",
    "\n",
    "\n",
    "class Para:\n",
    "    read_folder_path = 'data/zj_space_1d_rate_20d_17-21_raw'\n",
    "    write_folder_path = 'data/zj_space_1d_rate_20d_17-21_pre'\n",
    "\n",
    "    feature_column_start_name = 'ep_ratio_ttm'\n",
    "    feature_column_end_name = 'BR'\n",
    "\n",
    "    month_num = len(os.listdir(read_folder_path))\n",
    "para = Para()\n",
    "print(para.month_num)"
   ],
   "metadata": {
    "collapsed": false,
    "pycharm": {
     "name": "#%%\n"
    }
   }
  },
  {
   "cell_type": "code",
   "execution_count": 11,
   "outputs": [
    {
     "data": {
      "text/plain": "              board_type  sector_code  yield_rate  month       date  \\\norder_book_id                                                         \n600895.XSHG    MainBoard  Industrials   -0.013492      0 2017-01-03   \n600895.XSHG    MainBoard  Industrials   -0.016778      1 2017-01-04   \n600895.XSHG    MainBoard  Industrials   -0.010064      2 2017-01-05   \n600895.XSHG    MainBoard  Industrials    0.000563      3 2017-01-06   \n600895.XSHG    MainBoard  Industrials   -0.009516      4 2017-01-09   \n...                  ...          ...         ...    ...        ...   \n600895.XSHG    MainBoard  Industrials    0.019661   1192 2021-11-29   \n600895.XSHG    MainBoard  Industrials    0.013459   1193 2021-11-30   \n600895.XSHG    MainBoard  Industrials    0.010067   1194 2021-12-01   \n600895.XSHG    MainBoard  Industrials    0.015541   1195 2021-12-02   \n600895.XSHG    MainBoard  Industrials    0.016194   1196 2021-12-03   \n\n               ep_ratio_ttm  pb_ratio_ttm  sp_ratio_ttm  MACD_DIFF  MACD_DEA  \\\norder_book_id                                                                  \n600895.XSHG        0.019066      3.596055      0.105905  -0.192159 -0.214464   \n600895.XSHG        0.018970      3.614248      0.105372  -0.174930 -0.206557   \n600895.XSHG        0.018960      3.616269      0.105313  -0.158640 -0.196973   \n600895.XSHG        0.019098      3.589991      0.106084  -0.154439 -0.188466   \n600895.XSHG        0.018981      3.612226      0.105431  -0.140614 -0.178896   \n...                     ...           ...           ...        ...       ...   \n600895.XSHG        0.073442      2.024455      0.081535  -0.367241 -0.411104   \n600895.XSHG        0.072898      2.039552      0.080931  -0.353182 -0.399519   \n600895.XSHG        0.072703      2.045042      0.080714  -0.334951 -0.386606   \n600895.XSHG        0.073194      2.031317      0.081259  -0.324827 -0.374250   \n600895.XSHG        0.073095      2.034062      0.081149  -0.311598 -0.361720   \n\n               ...      RSI10         SY    BIAS20     VOL30     VOL60  \\\norder_book_id  ...                                                       \n600895.XSHG    ...  47.058824  55.555556 -0.531171  0.510848  0.590319   \n600895.XSHG    ...  58.870968  55.555556  0.072760  0.496079  0.586948   \n600895.XSHG    ...  55.263158  55.555556  0.249363  0.485891  0.588574   \n600895.XSHG    ...  33.333333  55.555556 -0.325514  0.478257  0.586710   \n600895.XSHG    ...  54.430380  66.666667  0.407361  0.457787  0.588179   \n...            ...        ...        ...       ...       ...       ...   \n600895.XSHG    ...  26.415094  44.444444 -1.791065  0.414774  0.580053   \n600895.XSHG    ...  38.613861  44.444444 -1.009226  0.416210  0.574087   \n600895.XSHG    ...  38.000000  55.555556 -0.676599  0.416538  0.571355   \n600895.XSHG    ...  43.181818  44.444444 -1.241158  0.418763  0.552226   \n600895.XSHG    ...  32.432432  55.555556 -1.018534  0.411038  0.528208   \n\n                 VOL120    VOLT20    VOLT60          AR          BR  \norder_book_id                                                        \n600895.XSHG    0.967413  0.222327  0.460197   89.709172   97.931034  \n600895.XSHG    0.964116  0.207044  0.464071  100.000000  106.082725  \n600895.XSHG    0.961362  0.179641  0.468016   97.387173  104.854369  \n600895.XSHG    0.949731  0.145590  0.473251  105.852417  110.769231  \n600895.XSHG    0.941847  0.101692  0.476494  109.768638  111.479592  \n...                 ...       ...       ...         ...         ...  \n600895.XSHG    0.869180  0.144255  1.069519   59.281437   48.784722  \n600895.XSHG    0.828973  0.148582  1.087710   55.490196   54.480287  \n600895.XSHG    0.787593  0.149042  1.104002   59.879032   54.757630  \n600895.XSHG    0.771821  0.153225  1.115301   64.946237   58.935361  \n600895.XSHG    0.742053  0.155458  1.118644   70.823529   65.208333  \n\n[1197 rows x 21 columns]",
      "text/html": "<div>\n<style scoped>\n    .dataframe tbody tr th:only-of-type {\n        vertical-align: middle;\n    }\n\n    .dataframe tbody tr th {\n        vertical-align: top;\n    }\n\n    .dataframe thead th {\n        text-align: right;\n    }\n</style>\n<table border=\"1\" class=\"dataframe\">\n  <thead>\n    <tr style=\"text-align: right;\">\n      <th></th>\n      <th>board_type</th>\n      <th>sector_code</th>\n      <th>yield_rate</th>\n      <th>month</th>\n      <th>date</th>\n      <th>ep_ratio_ttm</th>\n      <th>pb_ratio_ttm</th>\n      <th>sp_ratio_ttm</th>\n      <th>MACD_DIFF</th>\n      <th>MACD_DEA</th>\n      <th>...</th>\n      <th>RSI10</th>\n      <th>SY</th>\n      <th>BIAS20</th>\n      <th>VOL30</th>\n      <th>VOL60</th>\n      <th>VOL120</th>\n      <th>VOLT20</th>\n      <th>VOLT60</th>\n      <th>AR</th>\n      <th>BR</th>\n    </tr>\n    <tr>\n      <th>order_book_id</th>\n      <th></th>\n      <th></th>\n      <th></th>\n      <th></th>\n      <th></th>\n      <th></th>\n      <th></th>\n      <th></th>\n      <th></th>\n      <th></th>\n      <th></th>\n      <th></th>\n      <th></th>\n      <th></th>\n      <th></th>\n      <th></th>\n      <th></th>\n      <th></th>\n      <th></th>\n      <th></th>\n      <th></th>\n    </tr>\n  </thead>\n  <tbody>\n    <tr>\n      <th>600895.XSHG</th>\n      <td>MainBoard</td>\n      <td>Industrials</td>\n      <td>-0.013492</td>\n      <td>0</td>\n      <td>2017-01-03</td>\n      <td>0.019066</td>\n      <td>3.596055</td>\n      <td>0.105905</td>\n      <td>-0.192159</td>\n      <td>-0.214464</td>\n      <td>...</td>\n      <td>47.058824</td>\n      <td>55.555556</td>\n      <td>-0.531171</td>\n      <td>0.510848</td>\n      <td>0.590319</td>\n      <td>0.967413</td>\n      <td>0.222327</td>\n      <td>0.460197</td>\n      <td>89.709172</td>\n      <td>97.931034</td>\n    </tr>\n    <tr>\n      <th>600895.XSHG</th>\n      <td>MainBoard</td>\n      <td>Industrials</td>\n      <td>-0.016778</td>\n      <td>1</td>\n      <td>2017-01-04</td>\n      <td>0.018970</td>\n      <td>3.614248</td>\n      <td>0.105372</td>\n      <td>-0.174930</td>\n      <td>-0.206557</td>\n      <td>...</td>\n      <td>58.870968</td>\n      <td>55.555556</td>\n      <td>0.072760</td>\n      <td>0.496079</td>\n      <td>0.586948</td>\n      <td>0.964116</td>\n      <td>0.207044</td>\n      <td>0.464071</td>\n      <td>100.000000</td>\n      <td>106.082725</td>\n    </tr>\n    <tr>\n      <th>600895.XSHG</th>\n      <td>MainBoard</td>\n      <td>Industrials</td>\n      <td>-0.010064</td>\n      <td>2</td>\n      <td>2017-01-05</td>\n      <td>0.018960</td>\n      <td>3.616269</td>\n      <td>0.105313</td>\n      <td>-0.158640</td>\n      <td>-0.196973</td>\n      <td>...</td>\n      <td>55.263158</td>\n      <td>55.555556</td>\n      <td>0.249363</td>\n      <td>0.485891</td>\n      <td>0.588574</td>\n      <td>0.961362</td>\n      <td>0.179641</td>\n      <td>0.468016</td>\n      <td>97.387173</td>\n      <td>104.854369</td>\n    </tr>\n    <tr>\n      <th>600895.XSHG</th>\n      <td>MainBoard</td>\n      <td>Industrials</td>\n      <td>0.000563</td>\n      <td>3</td>\n      <td>2017-01-06</td>\n      <td>0.019098</td>\n      <td>3.589991</td>\n      <td>0.106084</td>\n      <td>-0.154439</td>\n      <td>-0.188466</td>\n      <td>...</td>\n      <td>33.333333</td>\n      <td>55.555556</td>\n      <td>-0.325514</td>\n      <td>0.478257</td>\n      <td>0.586710</td>\n      <td>0.949731</td>\n      <td>0.145590</td>\n      <td>0.473251</td>\n      <td>105.852417</td>\n      <td>110.769231</td>\n    </tr>\n    <tr>\n      <th>600895.XSHG</th>\n      <td>MainBoard</td>\n      <td>Industrials</td>\n      <td>-0.009516</td>\n      <td>4</td>\n      <td>2017-01-09</td>\n      <td>0.018981</td>\n      <td>3.612226</td>\n      <td>0.105431</td>\n      <td>-0.140614</td>\n      <td>-0.178896</td>\n      <td>...</td>\n      <td>54.430380</td>\n      <td>66.666667</td>\n      <td>0.407361</td>\n      <td>0.457787</td>\n      <td>0.588179</td>\n      <td>0.941847</td>\n      <td>0.101692</td>\n      <td>0.476494</td>\n      <td>109.768638</td>\n      <td>111.479592</td>\n    </tr>\n    <tr>\n      <th>...</th>\n      <td>...</td>\n      <td>...</td>\n      <td>...</td>\n      <td>...</td>\n      <td>...</td>\n      <td>...</td>\n      <td>...</td>\n      <td>...</td>\n      <td>...</td>\n      <td>...</td>\n      <td>...</td>\n      <td>...</td>\n      <td>...</td>\n      <td>...</td>\n      <td>...</td>\n      <td>...</td>\n      <td>...</td>\n      <td>...</td>\n      <td>...</td>\n      <td>...</td>\n      <td>...</td>\n    </tr>\n    <tr>\n      <th>600895.XSHG</th>\n      <td>MainBoard</td>\n      <td>Industrials</td>\n      <td>0.019661</td>\n      <td>1192</td>\n      <td>2021-11-29</td>\n      <td>0.073442</td>\n      <td>2.024455</td>\n      <td>0.081535</td>\n      <td>-0.367241</td>\n      <td>-0.411104</td>\n      <td>...</td>\n      <td>26.415094</td>\n      <td>44.444444</td>\n      <td>-1.791065</td>\n      <td>0.414774</td>\n      <td>0.580053</td>\n      <td>0.869180</td>\n      <td>0.144255</td>\n      <td>1.069519</td>\n      <td>59.281437</td>\n      <td>48.784722</td>\n    </tr>\n    <tr>\n      <th>600895.XSHG</th>\n      <td>MainBoard</td>\n      <td>Industrials</td>\n      <td>0.013459</td>\n      <td>1193</td>\n      <td>2021-11-30</td>\n      <td>0.072898</td>\n      <td>2.039552</td>\n      <td>0.080931</td>\n      <td>-0.353182</td>\n      <td>-0.399519</td>\n      <td>...</td>\n      <td>38.613861</td>\n      <td>44.444444</td>\n      <td>-1.009226</td>\n      <td>0.416210</td>\n      <td>0.574087</td>\n      <td>0.828973</td>\n      <td>0.148582</td>\n      <td>1.087710</td>\n      <td>55.490196</td>\n      <td>54.480287</td>\n    </tr>\n    <tr>\n      <th>600895.XSHG</th>\n      <td>MainBoard</td>\n      <td>Industrials</td>\n      <td>0.010067</td>\n      <td>1194</td>\n      <td>2021-12-01</td>\n      <td>0.072703</td>\n      <td>2.045042</td>\n      <td>0.080714</td>\n      <td>-0.334951</td>\n      <td>-0.386606</td>\n      <td>...</td>\n      <td>38.000000</td>\n      <td>55.555556</td>\n      <td>-0.676599</td>\n      <td>0.416538</td>\n      <td>0.571355</td>\n      <td>0.787593</td>\n      <td>0.149042</td>\n      <td>1.104002</td>\n      <td>59.879032</td>\n      <td>54.757630</td>\n    </tr>\n    <tr>\n      <th>600895.XSHG</th>\n      <td>MainBoard</td>\n      <td>Industrials</td>\n      <td>0.015541</td>\n      <td>1195</td>\n      <td>2021-12-02</td>\n      <td>0.073194</td>\n      <td>2.031317</td>\n      <td>0.081259</td>\n      <td>-0.324827</td>\n      <td>-0.374250</td>\n      <td>...</td>\n      <td>43.181818</td>\n      <td>44.444444</td>\n      <td>-1.241158</td>\n      <td>0.418763</td>\n      <td>0.552226</td>\n      <td>0.771821</td>\n      <td>0.153225</td>\n      <td>1.115301</td>\n      <td>64.946237</td>\n      <td>58.935361</td>\n    </tr>\n    <tr>\n      <th>600895.XSHG</th>\n      <td>MainBoard</td>\n      <td>Industrials</td>\n      <td>0.016194</td>\n      <td>1196</td>\n      <td>2021-12-03</td>\n      <td>0.073095</td>\n      <td>2.034062</td>\n      <td>0.081149</td>\n      <td>-0.311598</td>\n      <td>-0.361720</td>\n      <td>...</td>\n      <td>32.432432</td>\n      <td>55.555556</td>\n      <td>-1.018534</td>\n      <td>0.411038</td>\n      <td>0.528208</td>\n      <td>0.742053</td>\n      <td>0.155458</td>\n      <td>1.118644</td>\n      <td>70.823529</td>\n      <td>65.208333</td>\n    </tr>\n  </tbody>\n</table>\n<p>1197 rows × 21 columns</p>\n</div>"
     },
     "execution_count": 11,
     "metadata": {},
     "output_type": "execute_result"
    }
   ],
   "source": [
    "import time\n",
    "import numpy as np\n",
    "import pandas as pd\n",
    "\n",
    "\n",
    "time_begin = time.time()\n",
    "\n",
    "df = pd.DataFrame()\n",
    "\n",
    "for i_csv in range(para.month_num):\n",
    "\n",
    "    df_curr_month = pd.read_csv(para.read_folder_path +'/'+ str(i_csv) + '.csv', index_col='order_book_id')\n",
    "\n",
    "    df_curr_month['date'] = pd.to_datetime(df_curr_month['date'])\n",
    "\n",
    "    df = pd.concat([df, df_curr_month])\n",
    "\n",
    "df"
   ],
   "metadata": {
    "collapsed": false,
    "pycharm": {
     "name": "#%%\n"
    }
   }
  },
  {
   "cell_type": "code",
   "execution_count": 12,
   "outputs": [
    {
     "name": "stdout",
     "output_type": "stream",
     "text": [
      "\n",
      "Done!\n"
     ]
    }
   ],
   "source": [
    "# Replace infinite updated data with nan\n",
    "df.replace(to_replace=[np.inf, -np.inf], value=np.nan, inplace=True)\n",
    "\n",
    "# 剔除含有 na 的行\n",
    "df_dropna = df.dropna(axis=0, how='any')\n",
    "\n",
    "# 选择特征列和标签列\n",
    "df_dropna_y = df_dropna[['board_type', 'sector_code', 'month', 'date']]\n",
    "df_dropna_features = df_dropna.loc[:, para.feature_column_start_name:para.feature_column_end_name]\n",
    "df_dropna_features = pd.concat([df_dropna['yield_rate'], df_dropna_features], axis=1)\n",
    "\n",
    "# 中位数去极值\n",
    "df_dropna_features = df_dropna_features.clip(\n",
    "    lower=df_dropna_features.median(axis=0) - 5 * df_dropna_features.mad(axis=0),\n",
    "    upper=df_dropna_features.median(axis=0) + 5 * df_dropna_features.mad(axis=0),\n",
    "    axis=1)\n",
    "\n",
    "# 标准化\n",
    "df_dropna_features = (df_dropna_features - df_dropna_features.mean()) / df_dropna_features.std(ddof=0)\n",
    "\n",
    "# 拼接标签列和特征列\n",
    "df_dropna_standard = pd.concat([df_dropna_y, df_dropna_features], axis=1)\n",
    "\n",
    "# 写入文件\n",
    "df_dropna_standard.to_csv(para.write_folder_path + '/0.csv')\n",
    "\n",
    "print()\n",
    "print('Done!')"
   ],
   "metadata": {
    "collapsed": false,
    "pycharm": {
     "name": "#%%\n"
    }
   }
  }
 ],
 "metadata": {
  "kernelspec": {
   "display_name": "Python 3",
   "language": "python",
   "name": "python3"
  },
  "language_info": {
   "codemirror_mode": {
    "name": "ipython",
    "version": 2
   },
   "file_extension": ".py",
   "mimetype": "text/x-python",
   "name": "python",
   "nbconvert_exporter": "python",
   "pygments_lexer": "ipython2",
   "version": "2.7.6"
  }
 },
 "nbformat": 4,
 "nbformat_minor": 0
}